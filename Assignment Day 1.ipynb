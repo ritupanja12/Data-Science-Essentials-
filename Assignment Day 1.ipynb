{
 "cells": [
  {
   "cell_type": "code",
   "execution_count": 6,
   "metadata": {},
   "outputs": [
    {
     "name": "stdout",
     "output_type": "stream",
     "text": [
      "Guess the Correct English Word \n",
      "\n",
      "A) RANIBOW\n",
      "B) RAINBOW\n",
      "C) BOWRANI\n",
      "D) ROBWANI\n",
      "Enter the Correct Option B\n",
      "Correct Answer\n"
     ]
    }
   ],
   "source": [
    "print('''Guess the Correct English Word \n",
    "\n",
    "A) RANIBOW\n",
    "B) RAINBOW\n",
    "C) BOWRANI\n",
    "D) ROBWANI''')\n",
    "\n",
    "answer = input('Enter the Correct Option ')\n",
    "if answer == 'B':\n",
    "    print(\"Correct Answer\")\n",
    "else:\n",
    "    print(\"Incorrect Answer\")"
   ]
  },
  {
   "cell_type": "code",
   "execution_count": 7,
   "metadata": {},
   "outputs": [
    {
     "name": "stdout",
     "output_type": "stream",
     "text": [
      "LETS UPGRADE\n"
     ]
    }
   ],
   "source": [
    "phrase = 'lets upgrade';\n",
    "print(phrase.upper())"
   ]
  },
  {
   "cell_type": "code",
   "execution_count": 11,
   "metadata": {},
   "outputs": [
    {
     "name": "stdout",
     "output_type": "stream",
     "text": [
      "12\n",
      "12\n",
      "Neither\n"
     ]
    }
   ],
   "source": [
    "CP=int(input());\n",
    "SP=int(input());\n",
    "if (SP-CP)>1:\n",
    "    print('Profit')\n",
    "elif (CP-SP)>1:\n",
    "    print('Loss')\n",
    "else:\n",
    "    print('Neither')"
   ]
  },
  {
   "cell_type": "code",
   "execution_count": 12,
   "metadata": {},
   "outputs": [
    {
     "name": "stdout",
     "output_type": "stream",
     "text": [
      "80\n",
      "6400\n"
     ]
    }
   ],
   "source": [
    "Rupee=int(input(''))\n",
    "Euro=Rupee*80;\n",
    "print(Euro)"
   ]
  },
  {
   "cell_type": "code",
   "execution_count": null,
   "metadata": {},
   "outputs": [],
   "source": []
  }
 ],
 "metadata": {
  "kernelspec": {
   "display_name": "Python 3",
   "language": "python",
   "name": "python3"
  }
 },
 "nbformat": 4,
 "nbformat_minor": 4
}
