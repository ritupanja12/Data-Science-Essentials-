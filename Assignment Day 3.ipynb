{
 "cells": [
  {
   "cell_type": "code",
   "execution_count": 2,
   "metadata": {},
   "outputs": [
    {
     "name": "stdout",
     "output_type": "stream",
     "text": [
      "[ 2  5  8 11 14 17 20 23 26 29 32 35 38 41 44 47]\n"
     ]
    }
   ],
   "source": [
    "import numpy as np\n",
    "array1 = np.arange(2, 50, 3)\n",
    "print(array1)"
   ]
  },
  {
   "cell_type": "code",
   "execution_count": 3,
   "metadata": {},
   "outputs": [
    {
     "name": "stdout",
     "output_type": "stream",
     "text": [
      "Enter the value for list_1 : 2\n",
      "Enter the value for list_1 : 4\n",
      "Enter the value for list_1 : 6\n",
      "Enter the value for list_1 : 8\n",
      "Enter the value for list_1 : 10\n",
      "Enter the value for list_2 : 1\n",
      "Enter the value for list_2 : 3\n",
      "Enter the value for list_2 : 5\n",
      "Enter the value for list_2 : 7\n",
      "Enter the value for list_2 : 9\n",
      "Array value for concatenated array 3 : [ 2  4  6  8 10  1  3  5  7  9]\n",
      "\n",
      "Sorted Array for concatenated arr : [ 1  2  3  4  5  6  7  8  9 10]\n"
     ]
    }
   ],
   "source": [
    "import numpy as np\n",
    "list_1 = []\n",
    "list_2 = []\n",
    "for i in range(5):\n",
    "  x=int(input('Enter the value for list_1 : '))\n",
    "  list_1.append(x)\n",
    "for i in range(5):\n",
    "  x=int(input('Enter the value for list_2 : '))\n",
    "  list_2.append(x)\n",
    "array_1 = np.array(list_1)\n",
    "array_2 = np.array(list_2)\n",
    "array3 = np.concatenate((array_1, array_2))\n",
    "print('Array value for concatenated array 3 :',array3)\n",
    "sort_array = np.sort(array3)\n",
    "print(\"\\nSorted Array for concatenated arr :\",sort_array)"
   ]
  },
  {
   "cell_type": "code",
   "execution_count": 5,
   "metadata": {},
   "outputs": [
    {
     "name": "stdout",
     "output_type": "stream",
     "text": [
      "Dimensions in Array :  2\n",
      "Size of Array :  6\n"
     ]
    }
   ],
   "source": [
    "import numpy as np\n",
    "array1 = np.array([[1,3,5],[2,4,6]])\n",
    "print('Dimensions in Array : ', array1.ndim)\n",
    "print('Size of Array : ', array1.size)"
   ]
  },
  {
   "cell_type": "code",
   "execution_count": 10,
   "metadata": {},
   "outputs": [
    {
     "name": "stdout",
     "output_type": "stream",
     "text": [
      "Shape of Array :  (10,)\n",
      "Shape of 2D Array in Row Major : (1, 10)\n",
      "Shape of 2D Array in Column Major : (10, 1)\n"
     ]
    }
   ],
   "source": [
    "# newaxis snippet\n",
    "import numpy as np\n",
    "array1 = np.arange(10)\n",
    "print('Shape of Array : ',array1.shape)\n",
    "row_array1 = array1[np.newaxis, :]\n",
    "print('Shape of 2D Array in Row Major :',row_array1.shape)\n",
    "column_array1 = array1[:, np.newaxis]\n",
    "print('Shape of 2D Array in Column Major :',column_array1.shape)"
   ]
  },
  {
   "cell_type": "code",
   "execution_count": 11,
   "metadata": {},
   "outputs": [
    {
     "name": "stdout",
     "output_type": "stream",
     "text": [
      "Shape of Array :  (10,)\n",
      "Shape of 2D Array in Row Major :  (1, 10)\n",
      "Shape of 2D Array in Column Major :  (10, 1)\n"
     ]
    }
   ],
   "source": [
    "# expand_dims snippet\n",
    "import numpy as np\n",
    "array1 = np.arange(10)\n",
    "print('Shape of Array : ',array1.shape)\n",
    "row_array1 = np.expand_dims(array1, axis=0)\n",
    "print('Shape of 2D Array in Row Major : ',row_array1.shape)\n",
    "column_array1 = np.expand_dims(array1, axis=1)\n",
    "print('Shape of 2D Array in Column Major : ',column_array1.shape)"
   ]
  },
  {
   "cell_type": "code",
   "execution_count": 12,
   "metadata": {},
   "outputs": [
    {
     "name": "stdout",
     "output_type": "stream",
     "text": [
      "Horizontal Append :  [  4  16  36  64 100   1   9  25  49  81]\n",
      "Vertical Append :  [[  4  16  36  64 100]\n",
      " [  1   9  25  49  81]]\n"
     ]
    }
   ],
   "source": [
    "import numpy as np\n",
    "array_1 = np.square([2, 4, 6, 8, 10])\n",
    "array_2 = np.square([1, 3, 5, 7, 9])\n",
    "print('Horizontal Append : ', np.hstack((array_1, array_2)))\n",
    "print('Vertical Append : ', np.vstack((array_1, array_2)))"
   ]
  },
  {
   "cell_type": "code",
   "execution_count": 14,
   "metadata": {},
   "outputs": [
    {
     "name": "stdout",
     "output_type": "stream",
     "text": [
      "[[  1   3]\n",
      " [  2   2]\n",
      " [  3   2]\n",
      " [  4   3]\n",
      " [  5   2]\n",
      " [  6   2]\n",
      " [  7   2]\n",
      " [  8   2]\n",
      " [  9   3]\n",
      " [ 10   2]\n",
      " [ 16   1]\n",
      " [ 25   1]\n",
      " [ 36   1]\n",
      " [ 49   1]\n",
      " [ 64   1]\n",
      " [ 81   1]\n",
      " [100   1]]\n"
     ]
    }
   ],
   "source": [
    "import numpy as np\n",
    "array_1 = np.array([1, 2, 3, 4, 5, 6, 7,8,9, 10, 2, 4, 6, 8, 10, 1, 3, 5, 7, 9, 1, 4, 9, 16, 25, 36, 49, 64, 81, 100])\n",
    "unique, counts = np.unique(array_1, return_counts=True)\n",
    "array_2 = np.asarray((unique, counts)).T\n",
    "print(array_2)"
   ]
  },
  {
   "cell_type": "code",
   "execution_count": null,
   "metadata": {},
   "outputs": [],
   "source": []
  }
 ],
 "metadata": {
  "kernelspec": {
   "display_name": "Python 3",
   "language": "python",
   "name": "python3"
  },
  "language_info": {
   "codemirror_mode": {
    "name": "ipython",
    "version": 3
   },
   "file_extension": ".py",
   "mimetype": "text/x-python",
   "name": "python",
   "nbconvert_exporter": "python",
   "pygments_lexer": "ipython3",
   "version": "3.8.3"
  }
 },
 "nbformat": 4,
 "nbformat_minor": 4
}
